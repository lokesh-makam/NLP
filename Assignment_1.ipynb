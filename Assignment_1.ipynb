{
  "cells": [
    {
      "cell_type": "markdown",
      "metadata": {
        "id": "view-in-github",
        "colab_type": "text"
      },
      "source": [
        "<a href=\"https://colab.research.google.com/github/lokesh-makam/NLP/blob/main/Assignment_1.ipynb\" target=\"_parent\"><img src=\"https://colab.research.google.com/assets/colab-badge.svg\" alt=\"Open In Colab\"/></a>"
      ]
    },
    {
      "cell_type": "code",
      "execution_count": null,
      "metadata": {
        "id": "S74ldt4IZXF3"
      },
      "outputs": [],
      "source": [
        "!pip install datasets regex\n",
        "\n",
        "from datasets import load_dataset\n",
        "import regex as re\n",
        "from itertools import islice\n",
        "\n",
        "# Load Telugu IndicCorpV2 dataset (streaming mode)\n",
        "dataset = load_dataset(\"ai4bharat/IndicCorpV2\", \"indiccorp_v2\", split=\"tel_Telu\", streaming=True)\n",
        "\n",
        "# Telugu sentence tokenizer\n",
        "def telugu_sentence_tokenizer(text):\n",
        "    text = re.sub(r'\\s+', ' ', text).strip()\n",
        "    return re.split(r'(?<=[.!?।])\\s', text)\n",
        "\n",
        "# Telugu word tokenizer using Unicode regex\n",
        "def telugu_word_tokenizer(sentence):\n",
        "    pattern = r'\\p{Script=Telugu}+(?:\\p{Mn}+)?|\\p{N}+|[^\\s\\p{L}\\p{N}]'\n",
        "    return re.findall(pattern, sentence)\n",
        "\n",
        "# Open all three files to save outputs\n",
        "with open(\"telugu_sentences.txt\", \"w\", encoding=\"utf-8\") as f_sentences, \\\n",
        "     open(\"telugu_words.txt\", \"w\", encoding=\"utf-8\") as f_words, \\\n",
        "     open(\"telugu_tokenized_sentences.txt\", \"w\", encoding=\"utf-8\") as f_tokenized:\n",
        "\n",
        "    for i, example in enumerate(islice(dataset, 10000), start=1):\n",
        "        paragraph = example.get(\"text\", \"\").strip()\n",
        "        if not paragraph:\n",
        "            continue\n",
        "\n",
        "        print(f\"\\n🔹 Paragraph {i}:\\n{paragraph}\")\n",
        "\n",
        "        # Step 1: Paragraph → Sentences\n",
        "        sentences = telugu_sentence_tokenizer(paragraph)\n",
        "        for j, sentence in enumerate(sentences, start=1):\n",
        "            clean_sentence = sentence.strip()\n",
        "            if not clean_sentence:\n",
        "                continue\n",
        "\n",
        "            print(f\"\\n  🔸 Sentence {j}: {clean_sentence}\")\n",
        "            f_sentences.write(clean_sentence + \"\\n\")\n",
        "\n",
        "            # Step 2: Sentence → Words\n",
        "            words = telugu_word_tokenizer(clean_sentence)\n",
        "            print(f\"    🟢 Words: {words}\")\n",
        "            f_words.write(\" \".join(words) + \"\\n\")\n",
        "\n",
        "            # Step 3: Reconstruct Tokenized Sentence\n",
        "            tokenized_sentence = \" \".join(words)\n",
        "            print(f\"    🟣 Tokenized Sentence: {tokenized_sentence}\")\n",
        "            f_tokenized.write(tokenized_sentence + \"\\n\")\n"
      ]
    },
    {
      "cell_type": "code",
      "source": [
        "import re\n",
        "from datasets import load_dataset\n",
        "\n",
        "dataset = load_dataset(\"ai4bharat/IndicCorpV2\", name=\"indiccorp_v2\", split=\"tel_Telu\",streaming=True)\n",
        "\n",
        "# Telugu Unicode range: \\u0C00 to \\u0C7F\n",
        "pattern = re.compile(\n",
        "    r'https?://\\S+|'                     # URLs\n",
        "    r'\\b[\\w\\.-]+@[\\w\\.-]+\\.\\w{2,4}\\b|'   # email addresses\n",
        "    r'\\d{1,2}[/-]\\d{1,2}[/-]\\d{2,4}|'    # dates like 12/05/2020\n",
        "    r'\\d+\\.\\d+|\\d+|'                     # numbers including decimals\n",
        "    r'[\\u0C00-\\u0C7F]+|'                 # Telugu words\n",
        "    r'[^\\s\\w\\u0C00-\\u0C7F]'              # punctuation\n",
        ")\n",
        "\n",
        "num=1\n",
        "\n",
        "for i in dataset:\n",
        "  if i['text'].strip():\n",
        "    num+=1\n",
        "  if(num==5):\n",
        "    print(i['text'])\n",
        "    print('\\n')\n",
        "    telugu_words = pattern.findall(i['text'])\n",
        "    break\n",
        "\n",
        "print(telugu_words)"
      ],
      "metadata": {
        "colab": {
          "base_uri": "https://localhost:8080/",
          "height": 248,
          "referenced_widgets": [
            "08e5f658064249f9aee80adcd87daed0",
            "f09279ca7b954b768ea34f50501f6832",
            "10aa533179ef4079a7bc033a74c2d885",
            "2d9b59a3da644d339e56876308991c23",
            "fa5b5b550923464693e33a94f1aa7d46",
            "6b8888763d1d42b7837b43ba0f7fb6ff",
            "e6dc239d1a6c48afa0504da6af3c51a8",
            "53bad8b36ab84c70860a6500d93251a3",
            "18f183e8e8ba4c6d9e625d4430121fb3",
            "93d75426f9c4476a8266b53e8a719321",
            "ab20b8a051524cc2b971c1efdbdcbf44"
          ]
        },
        "id": "wGKPD0dmYnpq",
        "outputId": "56f2cf7d-ad07-4fef-d00f-2f0ee3765ffe"
      },
      "execution_count": null,
      "outputs": [
        {
          "output_type": "stream",
          "name": "stderr",
          "text": [
            "/usr/local/lib/python3.11/dist-packages/huggingface_hub/utils/_auth.py:94: UserWarning: \n",
            "The secret `HF_TOKEN` does not exist in your Colab secrets.\n",
            "To authenticate with the Hugging Face Hub, create a token in your settings tab (https://huggingface.co/settings/tokens), set it as secret in your Google Colab and restart your session.\n",
            "You will be able to reuse this secret in all of your notebooks.\n",
            "Please note that authentication is recommended but still optional to access public models or datasets.\n",
            "  warnings.warn(\n"
          ]
        },
        {
          "output_type": "display_data",
          "data": {
            "text/plain": [
              "README.md: 0.00B [00:00, ?B/s]"
            ],
            "application/vnd.jupyter.widget-view+json": {
              "version_major": 2,
              "version_minor": 0,
              "model_id": "08e5f658064249f9aee80adcd87daed0"
            }
          },
          "metadata": {}
        },
        {
          "output_type": "stream",
          "name": "stdout",
          "text": [
            "మనలో చాలా మంది విద్యుత్ పొదుపు చేయాలి అని విన్నాను. ఎందుకు? అందంగా చాలా సంస్కరణలు. కొన్ని నమ్మకం శక్తి సేవ్ లేకపోతే, దీన్ని చెయ్యవచ్చు చౌక కాదు. ఎవరైనా అది కూడా విద్యుత్ మూలం ఆదా చెప్పారు. కానీ ఎవరూ అది శక్తి సేవ్ అవసరం ఎందుకు అనే ప్రశ్న పై చాలా ప్రత్యేకంగా చెప్పగలను. , సాధారణ హక్కుకు మరియు ఆ మరియు ఇతరులు. ఇంధన వనరుల పొదుపు ప్రయోజనం కోసం విద్యుత్ సేవ్ మొదటి విషయం. అలాగే, పని తొలగించబడుతుంది పవర్ స్టేషన్ చాలా హానికరమైన వాయువులు ఉంది. ఈ సేకరించిన పదార్థాలు హానికరం ప్రజలకు కానీ కూడా పర్యావరణం కోసం మాత్రమే కాదు.\n",
            "\n",
            "\n",
            "['మనలో', 'చాలా', 'మంది', 'విద్యుత్', 'పొదుపు', 'చేయాలి', 'అని', 'విన్నాను', '.', 'ఎందుకు', '?', 'అందంగా', 'చాలా', 'సంస్కరణలు', '.', 'కొన్ని', 'నమ్మకం', 'శక్తి', 'సేవ్', 'లేకపోతే', ',', 'దీన్ని', 'చెయ్యవచ్చు', 'చౌక', 'కాదు', '.', 'ఎవరైనా', 'అది', 'కూడా', 'విద్యుత్', 'మూలం', 'ఆదా', 'చెప్పారు', '.', 'కానీ', 'ఎవరూ', 'అది', 'శక్తి', 'సేవ్', 'అవసరం', 'ఎందుకు', 'అనే', 'ప్రశ్న', 'పై', 'చాలా', 'ప్రత్యేకంగా', 'చెప్పగలను', '.', ',', 'సాధారణ', 'హక్కుకు', 'మరియు', 'ఆ', 'మరియు', 'ఇతరులు', '.', 'ఇంధన', 'వనరుల', 'పొదుపు', 'ప్రయోజనం', 'కోసం', 'విద్యుత్', 'సేవ్', 'మొదటి', 'విషయం', '.', 'అలాగే', ',', 'పని', 'తొలగించబడుతుంది', 'పవర్', 'స్టేషన్', 'చాలా', 'హానికరమైన', 'వాయువులు', 'ఉంది', '.', 'ఈ', 'సేకరించిన', 'పదార్థాలు', 'హానికరం', 'ప్రజలకు', 'కానీ', 'కూడా', 'పర్యావరణం', 'కోసం', 'మాత్రమే', 'కాదు', '.']\n"
          ]
        }
      ]
    },
    {
      "cell_type": "code",
      "execution_count": null,
      "metadata": {
        "colab": {
          "base_uri": "https://localhost:8080/"
        },
        "id": "TB91HyjeYeCE",
        "outputId": "10c70364-65ab-42ca-a156-be1c1e808731"
      },
      "outputs": [
        {
          "name": "stdout",
          "output_type": "stream",
          "text": [
            "Decoded: తెలుగు భాష చాలా ప్రాచీనమైనది.\n"
          ]
        }
      ],
      "source": [
        "decoded = tokenizer.decode(encoded)\n",
        "print(\"Decoded:\", decoded)"
      ]
    }
  ],
  "metadata": {
    "colab": {
      "provenance": [],
      "toc_visible": true,
      "authorship_tag": "ABX9TyMrXItjggXYA8E7UqRBCYJ5",
      "include_colab_link": true
    },
    "kernelspec": {
      "display_name": "Python 3",
      "name": "python3"
    },
    "language_info": {
      "name": "python"
    },
    "widgets": {
      "application/vnd.jupyter.widget-state+json": {
        "08e5f658064249f9aee80adcd87daed0": {
          "model_module": "@jupyter-widgets/controls",
          "model_name": "HBoxModel",
          "model_module_version": "1.5.0",
          "state": {
            "_dom_classes": [],
            "_model_module": "@jupyter-widgets/controls",
            "_model_module_version": "1.5.0",
            "_model_name": "HBoxModel",
            "_view_count": null,
            "_view_module": "@jupyter-widgets/controls",
            "_view_module_version": "1.5.0",
            "_view_name": "HBoxView",
            "box_style": "",
            "children": [
              "IPY_MODEL_f09279ca7b954b768ea34f50501f6832",
              "IPY_MODEL_10aa533179ef4079a7bc033a74c2d885",
              "IPY_MODEL_2d9b59a3da644d339e56876308991c23"
            ],
            "layout": "IPY_MODEL_fa5b5b550923464693e33a94f1aa7d46"
          }
        },
        "f09279ca7b954b768ea34f50501f6832": {
          "model_module": "@jupyter-widgets/controls",
          "model_name": "HTMLModel",
          "model_module_version": "1.5.0",
          "state": {
            "_dom_classes": [],
            "_model_module": "@jupyter-widgets/controls",
            "_model_module_version": "1.5.0",
            "_model_name": "HTMLModel",
            "_view_count": null,
            "_view_module": "@jupyter-widgets/controls",
            "_view_module_version": "1.5.0",
            "_view_name": "HTMLView",
            "description": "",
            "description_tooltip": null,
            "layout": "IPY_MODEL_6b8888763d1d42b7837b43ba0f7fb6ff",
            "placeholder": "​",
            "style": "IPY_MODEL_e6dc239d1a6c48afa0504da6af3c51a8",
            "value": "README.md: "
          }
        },
        "10aa533179ef4079a7bc033a74c2d885": {
          "model_module": "@jupyter-widgets/controls",
          "model_name": "FloatProgressModel",
          "model_module_version": "1.5.0",
          "state": {
            "_dom_classes": [],
            "_model_module": "@jupyter-widgets/controls",
            "_model_module_version": "1.5.0",
            "_model_name": "FloatProgressModel",
            "_view_count": null,
            "_view_module": "@jupyter-widgets/controls",
            "_view_module_version": "1.5.0",
            "_view_name": "ProgressView",
            "bar_style": "success",
            "description": "",
            "description_tooltip": null,
            "layout": "IPY_MODEL_53bad8b36ab84c70860a6500d93251a3",
            "max": 1,
            "min": 0,
            "orientation": "horizontal",
            "style": "IPY_MODEL_18f183e8e8ba4c6d9e625d4430121fb3",
            "value": 1
          }
        },
        "2d9b59a3da644d339e56876308991c23": {
          "model_module": "@jupyter-widgets/controls",
          "model_name": "HTMLModel",
          "model_module_version": "1.5.0",
          "state": {
            "_dom_classes": [],
            "_model_module": "@jupyter-widgets/controls",
            "_model_module_version": "1.5.0",
            "_model_name": "HTMLModel",
            "_view_count": null,
            "_view_module": "@jupyter-widgets/controls",
            "_view_module_version": "1.5.0",
            "_view_name": "HTMLView",
            "description": "",
            "description_tooltip": null,
            "layout": "IPY_MODEL_93d75426f9c4476a8266b53e8a719321",
            "placeholder": "​",
            "style": "IPY_MODEL_ab20b8a051524cc2b971c1efdbdcbf44",
            "value": " 4.01k/? [00:00&lt;00:00, 56.8kB/s]"
          }
        },
        "fa5b5b550923464693e33a94f1aa7d46": {
          "model_module": "@jupyter-widgets/base",
          "model_name": "LayoutModel",
          "model_module_version": "1.2.0",
          "state": {
            "_model_module": "@jupyter-widgets/base",
            "_model_module_version": "1.2.0",
            "_model_name": "LayoutModel",
            "_view_count": null,
            "_view_module": "@jupyter-widgets/base",
            "_view_module_version": "1.2.0",
            "_view_name": "LayoutView",
            "align_content": null,
            "align_items": null,
            "align_self": null,
            "border": null,
            "bottom": null,
            "display": null,
            "flex": null,
            "flex_flow": null,
            "grid_area": null,
            "grid_auto_columns": null,
            "grid_auto_flow": null,
            "grid_auto_rows": null,
            "grid_column": null,
            "grid_gap": null,
            "grid_row": null,
            "grid_template_areas": null,
            "grid_template_columns": null,
            "grid_template_rows": null,
            "height": null,
            "justify_content": null,
            "justify_items": null,
            "left": null,
            "margin": null,
            "max_height": null,
            "max_width": null,
            "min_height": null,
            "min_width": null,
            "object_fit": null,
            "object_position": null,
            "order": null,
            "overflow": null,
            "overflow_x": null,
            "overflow_y": null,
            "padding": null,
            "right": null,
            "top": null,
            "visibility": null,
            "width": null
          }
        },
        "6b8888763d1d42b7837b43ba0f7fb6ff": {
          "model_module": "@jupyter-widgets/base",
          "model_name": "LayoutModel",
          "model_module_version": "1.2.0",
          "state": {
            "_model_module": "@jupyter-widgets/base",
            "_model_module_version": "1.2.0",
            "_model_name": "LayoutModel",
            "_view_count": null,
            "_view_module": "@jupyter-widgets/base",
            "_view_module_version": "1.2.0",
            "_view_name": "LayoutView",
            "align_content": null,
            "align_items": null,
            "align_self": null,
            "border": null,
            "bottom": null,
            "display": null,
            "flex": null,
            "flex_flow": null,
            "grid_area": null,
            "grid_auto_columns": null,
            "grid_auto_flow": null,
            "grid_auto_rows": null,
            "grid_column": null,
            "grid_gap": null,
            "grid_row": null,
            "grid_template_areas": null,
            "grid_template_columns": null,
            "grid_template_rows": null,
            "height": null,
            "justify_content": null,
            "justify_items": null,
            "left": null,
            "margin": null,
            "max_height": null,
            "max_width": null,
            "min_height": null,
            "min_width": null,
            "object_fit": null,
            "object_position": null,
            "order": null,
            "overflow": null,
            "overflow_x": null,
            "overflow_y": null,
            "padding": null,
            "right": null,
            "top": null,
            "visibility": null,
            "width": null
          }
        },
        "e6dc239d1a6c48afa0504da6af3c51a8": {
          "model_module": "@jupyter-widgets/controls",
          "model_name": "DescriptionStyleModel",
          "model_module_version": "1.5.0",
          "state": {
            "_model_module": "@jupyter-widgets/controls",
            "_model_module_version": "1.5.0",
            "_model_name": "DescriptionStyleModel",
            "_view_count": null,
            "_view_module": "@jupyter-widgets/base",
            "_view_module_version": "1.2.0",
            "_view_name": "StyleView",
            "description_width": ""
          }
        },
        "53bad8b36ab84c70860a6500d93251a3": {
          "model_module": "@jupyter-widgets/base",
          "model_name": "LayoutModel",
          "model_module_version": "1.2.0",
          "state": {
            "_model_module": "@jupyter-widgets/base",
            "_model_module_version": "1.2.0",
            "_model_name": "LayoutModel",
            "_view_count": null,
            "_view_module": "@jupyter-widgets/base",
            "_view_module_version": "1.2.0",
            "_view_name": "LayoutView",
            "align_content": null,
            "align_items": null,
            "align_self": null,
            "border": null,
            "bottom": null,
            "display": null,
            "flex": null,
            "flex_flow": null,
            "grid_area": null,
            "grid_auto_columns": null,
            "grid_auto_flow": null,
            "grid_auto_rows": null,
            "grid_column": null,
            "grid_gap": null,
            "grid_row": null,
            "grid_template_areas": null,
            "grid_template_columns": null,
            "grid_template_rows": null,
            "height": null,
            "justify_content": null,
            "justify_items": null,
            "left": null,
            "margin": null,
            "max_height": null,
            "max_width": null,
            "min_height": null,
            "min_width": null,
            "object_fit": null,
            "object_position": null,
            "order": null,
            "overflow": null,
            "overflow_x": null,
            "overflow_y": null,
            "padding": null,
            "right": null,
            "top": null,
            "visibility": null,
            "width": "20px"
          }
        },
        "18f183e8e8ba4c6d9e625d4430121fb3": {
          "model_module": "@jupyter-widgets/controls",
          "model_name": "ProgressStyleModel",
          "model_module_version": "1.5.0",
          "state": {
            "_model_module": "@jupyter-widgets/controls",
            "_model_module_version": "1.5.0",
            "_model_name": "ProgressStyleModel",
            "_view_count": null,
            "_view_module": "@jupyter-widgets/base",
            "_view_module_version": "1.2.0",
            "_view_name": "StyleView",
            "bar_color": null,
            "description_width": ""
          }
        },
        "93d75426f9c4476a8266b53e8a719321": {
          "model_module": "@jupyter-widgets/base",
          "model_name": "LayoutModel",
          "model_module_version": "1.2.0",
          "state": {
            "_model_module": "@jupyter-widgets/base",
            "_model_module_version": "1.2.0",
            "_model_name": "LayoutModel",
            "_view_count": null,
            "_view_module": "@jupyter-widgets/base",
            "_view_module_version": "1.2.0",
            "_view_name": "LayoutView",
            "align_content": null,
            "align_items": null,
            "align_self": null,
            "border": null,
            "bottom": null,
            "display": null,
            "flex": null,
            "flex_flow": null,
            "grid_area": null,
            "grid_auto_columns": null,
            "grid_auto_flow": null,
            "grid_auto_rows": null,
            "grid_column": null,
            "grid_gap": null,
            "grid_row": null,
            "grid_template_areas": null,
            "grid_template_columns": null,
            "grid_template_rows": null,
            "height": null,
            "justify_content": null,
            "justify_items": null,
            "left": null,
            "margin": null,
            "max_height": null,
            "max_width": null,
            "min_height": null,
            "min_width": null,
            "object_fit": null,
            "object_position": null,
            "order": null,
            "overflow": null,
            "overflow_x": null,
            "overflow_y": null,
            "padding": null,
            "right": null,
            "top": null,
            "visibility": null,
            "width": null
          }
        },
        "ab20b8a051524cc2b971c1efdbdcbf44": {
          "model_module": "@jupyter-widgets/controls",
          "model_name": "DescriptionStyleModel",
          "model_module_version": "1.5.0",
          "state": {
            "_model_module": "@jupyter-widgets/controls",
            "_model_module_version": "1.5.0",
            "_model_name": "DescriptionStyleModel",
            "_view_count": null,
            "_view_module": "@jupyter-widgets/base",
            "_view_module_version": "1.2.0",
            "_view_name": "StyleView",
            "description_width": ""
          }
        }
      }
    }
  },
  "nbformat": 4,
  "nbformat_minor": 0
}